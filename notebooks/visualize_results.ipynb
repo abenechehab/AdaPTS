{
 "cells": [
  {
   "cell_type": "code",
   "execution_count": 52,
   "metadata": {},
   "outputs": [],
   "source": [
    "import numpy as np\n",
    "import pandas as pd\n",
    "import seaborn as sns\n",
    "\n",
    "import matplotlib.pyplot as plt"
   ]
  },
  {
   "cell_type": "code",
   "execution_count": 63,
   "metadata": {},
   "outputs": [],
   "source": [
    "df = pd.read_csv(\"../results/data.csv\")\n",
    "index_new_exps = 4294\n",
    "df = df.iloc[index_new_exps:]\n",
    "\n",
    "df_newcol = df.set_axis(\n",
    "    [\n",
    "        \"dataset\",\n",
    "        \"foundational_model\",\n",
    "        \"adapter\",\n",
    "        \"n_features\",\n",
    "        \"n_components\",\n",
    "        \"is_fine_tuned\",\n",
    "        \"pca_in_preprocessing\",\n",
    "        \"use_revin\",\n",
    "        \"context_length\",\n",
    "        \"forecasting_horizon\",\n",
    "        \"running_time\",\n",
    "        \"seed\",\n",
    "        \"metric\",\n",
    "        \"value\",\n",
    "    ],\n",
    "    axis=1,\n",
    ")\n",
    "df_newcol\n",
    "\n",
    "df_newcol.to_csv(\"../results/data_clean.csv\", index=False)"
   ]
  },
  {
   "cell_type": "code",
   "execution_count": 64,
   "metadata": {},
   "outputs": [
    {
     "data": {
      "text/html": [
       "<div>\n",
       "<style scoped>\n",
       "    .dataframe tbody tr th:only-of-type {\n",
       "        vertical-align: middle;\n",
       "    }\n",
       "\n",
       "    .dataframe tbody tr th {\n",
       "        vertical-align: top;\n",
       "    }\n",
       "\n",
       "    .dataframe thead th {\n",
       "        text-align: right;\n",
       "    }\n",
       "</style>\n",
       "<table border=\"1\" class=\"dataframe\">\n",
       "  <thead>\n",
       "    <tr style=\"text-align: right;\">\n",
       "      <th></th>\n",
       "      <th>dataset</th>\n",
       "      <th>foundational_model</th>\n",
       "      <th>adapter</th>\n",
       "      <th>n_features</th>\n",
       "      <th>n_components</th>\n",
       "      <th>is_fine_tuned</th>\n",
       "      <th>pca_in_preprocessing</th>\n",
       "      <th>use_revin</th>\n",
       "      <th>context_length</th>\n",
       "      <th>forecasting_horizon</th>\n",
       "      <th>running_time</th>\n",
       "      <th>seed</th>\n",
       "      <th>metric</th>\n",
       "      <th>value</th>\n",
       "    </tr>\n",
       "  </thead>\n",
       "  <tbody>\n",
       "    <tr>\n",
       "      <th>0</th>\n",
       "      <td>Illness</td>\n",
       "      <td>AutonLab/MOMENT-1-small</td>\n",
       "      <td>linearAE</td>\n",
       "      <td>7</td>\n",
       "      <td>7</td>\n",
       "      <td>supervised</td>\n",
       "      <td>True</td>\n",
       "      <td>True</td>\n",
       "      <td>512.0</td>\n",
       "      <td>24</td>\n",
       "      <td>43.917139</td>\n",
       "      <td>20823.0</td>\n",
       "      <td>scaled_mse</td>\n",
       "      <td>3.927081</td>\n",
       "    </tr>\n",
       "    <tr>\n",
       "      <th>1</th>\n",
       "      <td>Illness</td>\n",
       "      <td>AutonLab/MOMENT-1-small</td>\n",
       "      <td>linearAE</td>\n",
       "      <td>7</td>\n",
       "      <td>7</td>\n",
       "      <td>supervised</td>\n",
       "      <td>True</td>\n",
       "      <td>True</td>\n",
       "      <td>512.0</td>\n",
       "      <td>24</td>\n",
       "      <td>43.917139</td>\n",
       "      <td>20823.0</td>\n",
       "      <td>scaled_mae</td>\n",
       "      <td>1.039715</td>\n",
       "    </tr>\n",
       "    <tr>\n",
       "      <th>2</th>\n",
       "      <td>Illness</td>\n",
       "      <td>AutonLab/MOMENT-1-small</td>\n",
       "      <td>linearAE</td>\n",
       "      <td>7</td>\n",
       "      <td>7</td>\n",
       "      <td>supervised</td>\n",
       "      <td>False</td>\n",
       "      <td>True</td>\n",
       "      <td>512.0</td>\n",
       "      <td>24</td>\n",
       "      <td>81.507269</td>\n",
       "      <td>26349.0</td>\n",
       "      <td>mse</td>\n",
       "      <td>4.060461</td>\n",
       "    </tr>\n",
       "    <tr>\n",
       "      <th>3</th>\n",
       "      <td>Illness</td>\n",
       "      <td>AutonLab/MOMENT-1-small</td>\n",
       "      <td>linearAE</td>\n",
       "      <td>7</td>\n",
       "      <td>7</td>\n",
       "      <td>supervised</td>\n",
       "      <td>False</td>\n",
       "      <td>True</td>\n",
       "      <td>512.0</td>\n",
       "      <td>24</td>\n",
       "      <td>81.507269</td>\n",
       "      <td>26349.0</td>\n",
       "      <td>mae</td>\n",
       "      <td>1.466816</td>\n",
       "    </tr>\n",
       "    <tr>\n",
       "      <th>4</th>\n",
       "      <td>Illness</td>\n",
       "      <td>AutonLab/MOMENT-1-small</td>\n",
       "      <td>linearAE</td>\n",
       "      <td>7</td>\n",
       "      <td>7</td>\n",
       "      <td>supervised</td>\n",
       "      <td>False</td>\n",
       "      <td>True</td>\n",
       "      <td>512.0</td>\n",
       "      <td>24</td>\n",
       "      <td>81.507269</td>\n",
       "      <td>26349.0</td>\n",
       "      <td>scaled_mse</td>\n",
       "      <td>4.010434</td>\n",
       "    </tr>\n",
       "  </tbody>\n",
       "</table>\n",
       "</div>"
      ],
      "text/plain": [
       "   dataset       foundational_model   adapter  n_features  n_components  \\\n",
       "0  Illness  AutonLab/MOMENT-1-small  linearAE           7             7   \n",
       "1  Illness  AutonLab/MOMENT-1-small  linearAE           7             7   \n",
       "2  Illness  AutonLab/MOMENT-1-small  linearAE           7             7   \n",
       "3  Illness  AutonLab/MOMENT-1-small  linearAE           7             7   \n",
       "4  Illness  AutonLab/MOMENT-1-small  linearAE           7             7   \n",
       "\n",
       "  is_fine_tuned  pca_in_preprocessing  use_revin  context_length  \\\n",
       "0    supervised                  True       True           512.0   \n",
       "1    supervised                  True       True           512.0   \n",
       "2    supervised                 False       True           512.0   \n",
       "3    supervised                 False       True           512.0   \n",
       "4    supervised                 False       True           512.0   \n",
       "\n",
       "   forecasting_horizon  running_time     seed      metric     value  \n",
       "0                   24     43.917139  20823.0  scaled_mse  3.927081  \n",
       "1                   24     43.917139  20823.0  scaled_mae  1.039715  \n",
       "2                   24     81.507269  26349.0         mse  4.060461  \n",
       "3                   24     81.507269  26349.0         mae  1.466816  \n",
       "4                   24     81.507269  26349.0  scaled_mse  4.010434  "
      ]
     },
     "execution_count": 64,
     "metadata": {},
     "output_type": "execute_result"
    }
   ],
   "source": [
    "df = pd.read_csv(\"../results/data_clean.csv\")\n",
    "df[\"adapter\"] = df[\"adapter\"].fillna(\"no_adapter\")\n",
    "df.head()"
   ]
  },
  {
   "cell_type": "code",
   "execution_count": 65,
   "metadata": {},
   "outputs": [
    {
     "data": {
      "image/png": "[encoded data removed]",
      "text/plain": [
       "<Figure size 1500x500 with 1 Axes>"
      ]
     },
     "metadata": {},
     "output_type": "display_data"
    }
   ],
   "source": [
    "metric = \"mse\"\n",
    "\n",
    "fig, axes = plt.subplots(1, 1, figsize=(15, 5))\n",
    "# axes = axes.flatten()\n",
    "fig.suptitle(f\"Hyperparameter Search Results vs {metric}\")\n",
    "\n",
    "sns.barplot(\n",
    "    df.loc[df[\"metric\"] == metric], x=\"dataset\", y=\"value\", hue=\"adapter\", ax=axes\n",
    ")\n",
    "plt.show()"
   ]
  },
  {
   "cell_type": "code",
   "execution_count": 66,
   "metadata": {},
   "outputs": [
    {
     "data": {
      "text/plain": [
       "Index(['dataset', 'foundational_model', 'adapter', 'n_features',\n",
       "       'n_components', 'is_fine_tuned', 'pca_in_preprocessing', 'use_revin',\n",
       "       'context_length', 'forecasting_horizon', 'running_time', 'seed',\n",
       "       'metric', 'value'],\n",
       "      dtype='object')"
      ]
     },
     "execution_count": 66,
     "metadata": {},
     "output_type": "execute_result"
    }
   ],
   "source": [
    "df.columns"
   ]
  },
  {
   "cell_type": "code",
   "execution_count": 67,
   "metadata": {},
   "outputs": [],
   "source": [
    "def print_scores(\n",
    "    dataset,\n",
    "    adapter,\n",
    "    forecasting_horizon, \n",
    "    n_components,\n",
    "    use_revin,\n",
    "    pca_in_preprocessing,\n",
    "    metric,\n",
    "):\n",
    "    df_ = df.loc[\n",
    "        (df[\"dataset\"] == dataset)\n",
    "        & (df[\"adapter\"] == adapter)\n",
    "        & (df[\"n_components\"] == n_components)\n",
    "        & (df[\"use_revin\"] == use_revin)\n",
    "        & (df[\"pca_in_preprocessing\"] == pca_in_preprocessing)\n",
    "        & (df[\"metric\"] == metric)\n",
    "        & (df[\"forecasting_horizon\"] == forecasting_horizon)\n",
    "    ]\n",
    "    print(\n",
    "        f\"Dataset: {dataset}, Adapter: {adapter}, n_components: {n_components}, use_revin: {use_revin}, pca_in_preprocessing: {pca_in_preprocessing}\"\n",
    "    )\n",
    "    print(\n",
    "        f\"Mean: {df_['value'].mean()}, Std: {df_['value'].std()}, Standard Error: {df_['value'].sem()}\"\n",
    "    )\n",
    "    print(f\"Min: {df_['value'].min()}, Max: {df_['value'].max()}\")\n",
    "    print(\n",
    "        f\"25th percentile: {df_['value'].quantile(0.25)}, 75th percentile: {df_['value'].quantile(0.75)}\"\n",
    "    )\n",
    "    print(f\"Median: {df_['value'].median()}\")\n",
    "    print(\"Count of seeds: \", len(df_))\n",
    "    print(\"\\n\")"
   ]
  },
  {
   "cell_type": "code",
   "execution_count": 68,
   "metadata": {},
   "outputs": [
    {
     "name": "stdout",
     "output_type": "stream",
     "text": [
      "Dataset: Illness, Adapter: linearAE, n_components: 7, use_revin: False, pca_in_preprocessing: False\n",
      "Mean: 5.694898858085631, Std: 1.1758100566474103, Standard Error: 0.5258382430582976\n",
      "Min: 4.590881187778505, Max: 7.243613899279165\n",
      "25th percentile: 4.593984815510995, 75th percentile: 6.515664261698222\n",
      "Median: 5.530350126161271\n",
      "Count of seeds:  5\n",
      "\n",
      "\n"
     ]
    }
   ],
   "source": [
    "dataset = \"Illness\"\n",
    "adapter = \"linearAE\"\n",
    "n_components = 7\n",
    "use_revin = False\n",
    "pca_in_preprocessing = False\n",
    "metric = \"mse\"\n",
    "forecasting_horizon = 24\n",
    "\n",
    "print_scores(\n",
    "    dataset,\n",
    "    adapter,\n",
    "    forecasting_horizon,\n",
    "    n_components,\n",
    "    use_revin,\n",
    "    pca_in_preprocessing,\n",
    "    metric,\n",
    ")"
   ]
  },
  {
   "cell_type": "code",
   "execution_count": null,
   "metadata": {},
   "outputs": [],
   "source": []
  }
 ],
 "metadata": {
  "kernelspec": {
   "display_name": "adapters_ttm_uv",
   "language": "python",
   "name": "python3"
  },
  "language_info": {
   "codemirror_mode": {
    "name": "ipython",
    "version": 3
   },
   "file_extension": ".py",
   "mimetype": "text/x-python",
   "name": "python",
   "nbconvert_exporter": "python",
   "pygments_lexer": "ipython3",
   "version": "3.10.12"
  }
 },
 "nbformat": 4,
 "nbformat_minor": 2
}
